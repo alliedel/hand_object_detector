{
 "cells": [
  {
   "cell_type": "code",
   "execution_count": 2,
   "metadata": {},
   "outputs": [],
   "source": [
    "# --------------------------------------------------------\n",
    "# Tensorflow Faster R-CNN\n",
    "# Licensed under The MIT License [see LICENSE for details]\n",
    "# Written by Jiasen Lu, Jianwei Yang, based on code from Ross Girshick\n",
    "# --------------------------------------------------------\n",
    "from __future__ import absolute_import\n",
    "from __future__ import division\n",
    "from __future__ import print_function\n",
    "\n",
    "import _init_paths\n",
    "import os\n",
    "import sys\n",
    "import numpy as np\n",
    "import argparse\n",
    "import pprint\n",
    "import pdb\n",
    "import time\n",
    "import cv2\n",
    "import torch\n",
    "from torch.autograd import Variable\n",
    "import torch.nn as nn\n",
    "import torch.optim as optim\n",
    "import torch.nn.functional as F \n",
    "from PIL import Image\n",
    "\n",
    "import torchvision.transforms as transforms\n",
    "import torchvision.datasets as dset\n",
    "# from scipy.misc import imread\n",
    "from imageio import imread\n",
    "from roi_data_layer.roidb import combined_roidb\n",
    "from roi_data_layer.roibatchLoader import roibatchLoader\n",
    "from model.utils.config import cfg, cfg_from_file, cfg_from_list, get_output_dir\n",
    "from model.rpn.bbox_transform import clip_boxes\n",
    "# from model.nms.nms_wrapper import nms\n",
    "from model.roi_layers import nms\n",
    "from model.rpn.bbox_transform import bbox_transform_inv\n",
    "from model.utils.net_utils import save_net, load_net, vis_detections, vis_detections_PIL, vis_detections_filtered_objects_PIL, vis_detections_filtered_objects # (1) here add a function to viz\n",
    "from model.utils.blob import im_list_to_blob\n",
    "from model.faster_rcnn.vgg16 import vgg16\n",
    "from model.faster_rcnn.resnet import resnet\n",
    "import pdb\n",
    "\n",
    "xrange = range  # Python 3\n"
   ]
  },
  {
   "cell_type": "code",
   "execution_count": 25,
   "metadata": {},
   "outputs": [
    {
     "data": {
      "text/plain": "    original_vido_id  video_id  frame_id                                path  \\\n0             P06_02         3         0  train/P06/P06_02/P06_02_000001.jpg   \n1             P06_02         3         1  train/P06/P06_02/P06_02_000002.jpg   \n2             P06_02         3         2  train/P06/P06_02/P06_02_000003.jpg   \n3             P06_02         3         3  train/P06/P06_02/P06_02_000004.jpg   \n4             P06_02         3         4  train/P06/P06_02/P06_02_000005.jpg   \n..               ...       ...       ...                                 ...   \n416           P06_02         3       416  train/P06/P06_02/P06_02_000417.jpg   \n417           P06_02         3       417  train/P06/P06_02/P06_02_000418.jpg   \n418           P06_02         3       418  train/P06/P06_02/P06_02_000419.jpg   \n419           P06_02         3       419  train/P06/P06_02/P06_02_000420.jpg   \n420           P06_02         3       420  train/P06/P06_02/P06_02_000421.jpg   \n\n     labels  \n0         0  \n1         0  \n2         0  \n3         0  \n4         0  \n..      ...  \n416       0  \n417       0  \n418       0  \n419       0  \n420       0  \n\n[421 rows x 5 columns]",
      "text/html": "<div>\n<style scoped>\n    .dataframe tbody tr th:only-of-type {\n        vertical-align: middle;\n    }\n\n    .dataframe tbody tr th {\n        vertical-align: top;\n    }\n\n    .dataframe thead th {\n        text-align: right;\n    }\n</style>\n<table border=\"1\" class=\"dataframe\">\n  <thead>\n    <tr style=\"text-align: right;\">\n      <th></th>\n      <th>original_vido_id</th>\n      <th>video_id</th>\n      <th>frame_id</th>\n      <th>path</th>\n      <th>labels</th>\n    </tr>\n  </thead>\n  <tbody>\n    <tr>\n      <th>0</th>\n      <td>P06_02</td>\n      <td>3</td>\n      <td>0</td>\n      <td>train/P06/P06_02/P06_02_000001.jpg</td>\n      <td>0</td>\n    </tr>\n    <tr>\n      <th>1</th>\n      <td>P06_02</td>\n      <td>3</td>\n      <td>1</td>\n      <td>train/P06/P06_02/P06_02_000002.jpg</td>\n      <td>0</td>\n    </tr>\n    <tr>\n      <th>2</th>\n      <td>P06_02</td>\n      <td>3</td>\n      <td>2</td>\n      <td>train/P06/P06_02/P06_02_000003.jpg</td>\n      <td>0</td>\n    </tr>\n    <tr>\n      <th>3</th>\n      <td>P06_02</td>\n      <td>3</td>\n      <td>3</td>\n      <td>train/P06/P06_02/P06_02_000004.jpg</td>\n      <td>0</td>\n    </tr>\n    <tr>\n      <th>4</th>\n      <td>P06_02</td>\n      <td>3</td>\n      <td>4</td>\n      <td>train/P06/P06_02/P06_02_000005.jpg</td>\n      <td>0</td>\n    </tr>\n    <tr>\n      <th>...</th>\n      <td>...</td>\n      <td>...</td>\n      <td>...</td>\n      <td>...</td>\n      <td>...</td>\n    </tr>\n    <tr>\n      <th>416</th>\n      <td>P06_02</td>\n      <td>3</td>\n      <td>416</td>\n      <td>train/P06/P06_02/P06_02_000417.jpg</td>\n      <td>0</td>\n    </tr>\n    <tr>\n      <th>417</th>\n      <td>P06_02</td>\n      <td>3</td>\n      <td>417</td>\n      <td>train/P06/P06_02/P06_02_000418.jpg</td>\n      <td>0</td>\n    </tr>\n    <tr>\n      <th>418</th>\n      <td>P06_02</td>\n      <td>3</td>\n      <td>418</td>\n      <td>train/P06/P06_02/P06_02_000419.jpg</td>\n      <td>0</td>\n    </tr>\n    <tr>\n      <th>419</th>\n      <td>P06_02</td>\n      <td>3</td>\n      <td>419</td>\n      <td>train/P06/P06_02/P06_02_000420.jpg</td>\n      <td>0</td>\n    </tr>\n    <tr>\n      <th>420</th>\n      <td>P06_02</td>\n      <td>3</td>\n      <td>420</td>\n      <td>train/P06/P06_02/P06_02_000421.jpg</td>\n      <td>0</td>\n    </tr>\n  </tbody>\n</table>\n<p>421 rows × 5 columns</p>\n</div>"
     },
     "execution_count": 25,
     "metadata": {},
     "output_type": "execute_result"
    }
   ],
   "source": [
    "import pandas as pd\n",
    "import os, glob\n",
    "\n",
    "LABELS_DIR = os.path.expanduser('~/data/datasets/EPIC_KITCHENS_2018/custom_labels_30')\n",
    "FRAMES_DIR = os.path.expanduser('~/data/datasets/EPIC_KITCHENS_2018/frames_30')\n",
    "FEATS_DIR = os.path.expanduser('./feats')\n",
    "FEATS_EXT = '_base.pt'\n",
    "\n",
    "video_name = 'P06_02'\n",
    "f_csv_labels = os.path.join(LABELS_DIR, video_name + '.csv')\n",
    "\n",
    "df_labels = pd.read_csv(f_csv_labels)\n",
    "df_labels"
   ]
  },
  {
   "cell_type": "code",
   "execution_count": 31,
   "outputs": [
    {
     "data": {
      "text/plain": "        frame_name                          frame_path  \\\n0    P06_02_000001  train/P06/P06_02/P06_02_000001.jpg   \n1    P06_02_000002  train/P06/P06_02/P06_02_000002.jpg   \n2    P06_02_000003  train/P06/P06_02/P06_02_000003.jpg   \n3    P06_02_000004  train/P06/P06_02/P06_02_000004.jpg   \n4    P06_02_000005  train/P06/P06_02/P06_02_000005.jpg   \n..             ...                                 ...   \n416  P06_02_000417  train/P06/P06_02/P06_02_000417.jpg   \n417  P06_02_000418  train/P06/P06_02/P06_02_000418.jpg   \n418  P06_02_000419  train/P06/P06_02/P06_02_000419.jpg   \n419  P06_02_000420  train/P06/P06_02/P06_02_000420.jpg   \n420  P06_02_000421  train/P06/P06_02/P06_02_000421.jpg   \n\n                        feat_files  feats_exist  \n0    ./feats/P06_02_000001_base.pt         True  \n1    ./feats/P06_02_000002_base.pt         True  \n2    ./feats/P06_02_000003_base.pt         True  \n3    ./feats/P06_02_000004_base.pt         True  \n4    ./feats/P06_02_000005_base.pt         True  \n..                             ...          ...  \n416  ./feats/P06_02_000417_base.pt         True  \n417  ./feats/P06_02_000418_base.pt         True  \n418  ./feats/P06_02_000419_base.pt         True  \n419  ./feats/P06_02_000420_base.pt         True  \n420  ./feats/P06_02_000421_base.pt         True  \n\n[421 rows x 4 columns]",
      "text/html": "<div>\n<style scoped>\n    .dataframe tbody tr th:only-of-type {\n        vertical-align: middle;\n    }\n\n    .dataframe tbody tr th {\n        vertical-align: top;\n    }\n\n    .dataframe thead th {\n        text-align: right;\n    }\n</style>\n<table border=\"1\" class=\"dataframe\">\n  <thead>\n    <tr style=\"text-align: right;\">\n      <th></th>\n      <th>frame_name</th>\n      <th>frame_path</th>\n      <th>feat_files</th>\n      <th>feats_exist</th>\n    </tr>\n  </thead>\n  <tbody>\n    <tr>\n      <th>0</th>\n      <td>P06_02_000001</td>\n      <td>train/P06/P06_02/P06_02_000001.jpg</td>\n      <td>./feats/P06_02_000001_base.pt</td>\n      <td>True</td>\n    </tr>\n    <tr>\n      <th>1</th>\n      <td>P06_02_000002</td>\n      <td>train/P06/P06_02/P06_02_000002.jpg</td>\n      <td>./feats/P06_02_000002_base.pt</td>\n      <td>True</td>\n    </tr>\n    <tr>\n      <th>2</th>\n      <td>P06_02_000003</td>\n      <td>train/P06/P06_02/P06_02_000003.jpg</td>\n      <td>./feats/P06_02_000003_base.pt</td>\n      <td>True</td>\n    </tr>\n    <tr>\n      <th>3</th>\n      <td>P06_02_000004</td>\n      <td>train/P06/P06_02/P06_02_000004.jpg</td>\n      <td>./feats/P06_02_000004_base.pt</td>\n      <td>True</td>\n    </tr>\n    <tr>\n      <th>4</th>\n      <td>P06_02_000005</td>\n      <td>train/P06/P06_02/P06_02_000005.jpg</td>\n      <td>./feats/P06_02_000005_base.pt</td>\n      <td>True</td>\n    </tr>\n    <tr>\n      <th>...</th>\n      <td>...</td>\n      <td>...</td>\n      <td>...</td>\n      <td>...</td>\n    </tr>\n    <tr>\n      <th>416</th>\n      <td>P06_02_000417</td>\n      <td>train/P06/P06_02/P06_02_000417.jpg</td>\n      <td>./feats/P06_02_000417_base.pt</td>\n      <td>True</td>\n    </tr>\n    <tr>\n      <th>417</th>\n      <td>P06_02_000418</td>\n      <td>train/P06/P06_02/P06_02_000418.jpg</td>\n      <td>./feats/P06_02_000418_base.pt</td>\n      <td>True</td>\n    </tr>\n    <tr>\n      <th>418</th>\n      <td>P06_02_000419</td>\n      <td>train/P06/P06_02/P06_02_000419.jpg</td>\n      <td>./feats/P06_02_000419_base.pt</td>\n      <td>True</td>\n    </tr>\n    <tr>\n      <th>419</th>\n      <td>P06_02_000420</td>\n      <td>train/P06/P06_02/P06_02_000420.jpg</td>\n      <td>./feats/P06_02_000420_base.pt</td>\n      <td>True</td>\n    </tr>\n    <tr>\n      <th>420</th>\n      <td>P06_02_000421</td>\n      <td>train/P06/P06_02/P06_02_000421.jpg</td>\n      <td>./feats/P06_02_000421_base.pt</td>\n      <td>True</td>\n    </tr>\n  </tbody>\n</table>\n<p>421 rows × 4 columns</p>\n</div>"
     },
     "execution_count": 31,
     "metadata": {},
     "output_type": "execute_result"
    }
   ],
   "source": [
    "all_frame_names = df_labels.path.apply(lambda x: os.path.splitext(os.path.basename(x))[0])\n",
    "feat_files = all_frame_names.apply(lambda x: os.path.join(FEATS_DIR, x + FEATS_EXT))\n",
    "feat_files_exist = feat_files.apply(os.path.exists)\n",
    "df_feats = pd.DataFrame({'frame_name': all_frame_names, 'frame_path': df_labels.path, 'feat_files': feat_files,\n",
    "                         'feats_exist': feat_files_exist})\n",
    "df_feats"
   ],
   "metadata": {
    "collapsed": false,
    "pycharm": {
     "name": "#%%\n"
    }
   }
  },
  {
   "cell_type": "code",
   "execution_count": 33,
   "outputs": [
    {
     "name": "stdout",
     "output_type": "stream",
     "text": [
      "421 / 421 feature files exist\n"
     ]
    }
   ],
   "source": [
    "print(df_feats.feats_exist.sum(), '/', len(df_feats.feats_exist), 'feature files exist.')"
   ],
   "metadata": {
    "collapsed": false,
    "pycharm": {
     "name": "#%%\n"
    }
   }
  },
  {
   "cell_type": "code",
   "execution_count": null,
   "outputs": [],
   "source": [
    "frames_list = sorted(glob.glob(os.path.join(FRAMES_DIR, '*.jpg')))\n",
    "assert not len(frames_list) == 0, f\"No frames found in {FRAMES_DIR}\"\n",
    "\n",
    "feats_list = sorted(glob.glob(os.path.join(FEATS_DIR, '*.pt')))"
   ],
   "metadata": {
    "collapsed": false,
    "pycharm": {
     "name": "#%%\n"
    }
   }
  },
  {
   "cell_type": "code",
   "execution_count": null,
   "outputs": [],
   "source": [],
   "metadata": {
    "collapsed": false,
    "pycharm": {
     "name": "#%%\n"
    }
   }
  },
  {
   "cell_type": "code",
   "execution_count": null,
   "outputs": [],
   "source": [],
   "metadata": {
    "collapsed": false,
    "pycharm": {
     "name": "#%%\n"
    }
   }
  }
 ],
 "metadata": {
  "kernelspec": {
   "display_name": "default-venv",
   "language": "python",
   "name": "default-venv"
  },
  "language_info": {
   "codemirror_mode": {
    "name": "ipython",
    "version": 3
   },
   "file_extension": ".py",
   "mimetype": "text/x-python",
   "name": "python",
   "nbconvert_exporter": "python",
   "pygments_lexer": "ipython3",
   "version": "3.8.3"
  }
 },
 "nbformat": 4,
 "nbformat_minor": 4
}